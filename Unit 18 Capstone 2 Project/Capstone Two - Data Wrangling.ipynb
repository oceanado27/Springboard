{
 "cells": [
  {
   "cell_type": "code",
   "execution_count": 45,
   "metadata": {},
   "outputs": [],
   "source": [
    "import os\n",
    "import matplotlib.pyplot as plt\n",
    "import pandas as pd\n",
    "import seaborn as sns"
   ]
  },
  {
   "cell_type": "code",
   "execution_count": null,
   "metadata": {},
   "outputs": [
    {
     "name": "stdout",
     "output_type": "stream",
     "text": [
      "c:\\Users\\yanks\\AppData\\Local\\Programs\\Microsoft VS Code\n"
     ]
    }
   ],
   "source": [
    "print(os.getcwd()) # current working directory "
   ]
  },
  {
   "cell_type": "code",
   "execution_count": null,
   "metadata": {},
   "outputs": [],
   "source": [
    "os.chdir('C:/Users/yanks/Desktop/Springboard/Unit 18 Capstone 2 Project') #change directory to where the file is saved"
   ]
  },
  {
   "cell_type": "code",
   "execution_count": null,
   "metadata": {},
   "outputs": [],
   "source": [
    "df = pd.read_csv('C:/Users/yanks/Desktop/Springboard/Unit 18 Capstone 2 Project/TelecomCxChurn.csv') # read in the data"
   ]
  },
  {
   "cell_type": "markdown",
   "metadata": {},
   "source": [
    "# Step 1: Data Collection"
   ]
  },
  {
   "cell_type": "code",
   "execution_count": 8,
   "metadata": {},
   "outputs": [
    {
     "data": {
      "text/html": [
       "<div>\n",
       "<style scoped>\n",
       "    .dataframe tbody tr th:only-of-type {\n",
       "        vertical-align: middle;\n",
       "    }\n",
       "\n",
       "    .dataframe tbody tr th {\n",
       "        vertical-align: top;\n",
       "    }\n",
       "\n",
       "    .dataframe thead th {\n",
       "        text-align: right;\n",
       "    }\n",
       "</style>\n",
       "<table border=\"1\" class=\"dataframe\">\n",
       "  <thead>\n",
       "    <tr style=\"text-align: right;\">\n",
       "      <th></th>\n",
       "      <th>customerID</th>\n",
       "      <th>gender</th>\n",
       "      <th>SeniorCitizen</th>\n",
       "      <th>Partner</th>\n",
       "      <th>Dependents</th>\n",
       "      <th>tenure</th>\n",
       "      <th>PhoneService</th>\n",
       "      <th>MultipleLines</th>\n",
       "      <th>InternetService</th>\n",
       "      <th>OnlineSecurity</th>\n",
       "      <th>...</th>\n",
       "      <th>DeviceProtection</th>\n",
       "      <th>TechSupport</th>\n",
       "      <th>StreamingTV</th>\n",
       "      <th>StreamingMovies</th>\n",
       "      <th>Contract</th>\n",
       "      <th>PaperlessBilling</th>\n",
       "      <th>PaymentMethod</th>\n",
       "      <th>MonthlyCharges</th>\n",
       "      <th>TotalCharges</th>\n",
       "      <th>Churn</th>\n",
       "    </tr>\n",
       "  </thead>\n",
       "  <tbody>\n",
       "    <tr>\n",
       "      <th>0</th>\n",
       "      <td>7590-VHVEG</td>\n",
       "      <td>Female</td>\n",
       "      <td>0</td>\n",
       "      <td>Yes</td>\n",
       "      <td>No</td>\n",
       "      <td>1</td>\n",
       "      <td>No</td>\n",
       "      <td>No phone service</td>\n",
       "      <td>DSL</td>\n",
       "      <td>No</td>\n",
       "      <td>...</td>\n",
       "      <td>No</td>\n",
       "      <td>No</td>\n",
       "      <td>No</td>\n",
       "      <td>No</td>\n",
       "      <td>Month-to-month</td>\n",
       "      <td>Yes</td>\n",
       "      <td>Electronic check</td>\n",
       "      <td>29.85</td>\n",
       "      <td>29.85</td>\n",
       "      <td>No</td>\n",
       "    </tr>\n",
       "    <tr>\n",
       "      <th>1</th>\n",
       "      <td>5575-GNVDE</td>\n",
       "      <td>Male</td>\n",
       "      <td>0</td>\n",
       "      <td>No</td>\n",
       "      <td>No</td>\n",
       "      <td>34</td>\n",
       "      <td>Yes</td>\n",
       "      <td>No</td>\n",
       "      <td>DSL</td>\n",
       "      <td>Yes</td>\n",
       "      <td>...</td>\n",
       "      <td>Yes</td>\n",
       "      <td>No</td>\n",
       "      <td>No</td>\n",
       "      <td>No</td>\n",
       "      <td>One year</td>\n",
       "      <td>No</td>\n",
       "      <td>Mailed check</td>\n",
       "      <td>56.95</td>\n",
       "      <td>1889.5</td>\n",
       "      <td>No</td>\n",
       "    </tr>\n",
       "    <tr>\n",
       "      <th>2</th>\n",
       "      <td>3668-QPYBK</td>\n",
       "      <td>Male</td>\n",
       "      <td>0</td>\n",
       "      <td>No</td>\n",
       "      <td>No</td>\n",
       "      <td>2</td>\n",
       "      <td>Yes</td>\n",
       "      <td>No</td>\n",
       "      <td>DSL</td>\n",
       "      <td>Yes</td>\n",
       "      <td>...</td>\n",
       "      <td>No</td>\n",
       "      <td>No</td>\n",
       "      <td>No</td>\n",
       "      <td>No</td>\n",
       "      <td>Month-to-month</td>\n",
       "      <td>Yes</td>\n",
       "      <td>Mailed check</td>\n",
       "      <td>53.85</td>\n",
       "      <td>108.15</td>\n",
       "      <td>Yes</td>\n",
       "    </tr>\n",
       "    <tr>\n",
       "      <th>3</th>\n",
       "      <td>7795-CFOCW</td>\n",
       "      <td>Male</td>\n",
       "      <td>0</td>\n",
       "      <td>No</td>\n",
       "      <td>No</td>\n",
       "      <td>45</td>\n",
       "      <td>No</td>\n",
       "      <td>No phone service</td>\n",
       "      <td>DSL</td>\n",
       "      <td>Yes</td>\n",
       "      <td>...</td>\n",
       "      <td>Yes</td>\n",
       "      <td>Yes</td>\n",
       "      <td>No</td>\n",
       "      <td>No</td>\n",
       "      <td>One year</td>\n",
       "      <td>No</td>\n",
       "      <td>Bank transfer (automatic)</td>\n",
       "      <td>42.30</td>\n",
       "      <td>1840.75</td>\n",
       "      <td>No</td>\n",
       "    </tr>\n",
       "    <tr>\n",
       "      <th>4</th>\n",
       "      <td>9237-HQITU</td>\n",
       "      <td>Female</td>\n",
       "      <td>0</td>\n",
       "      <td>No</td>\n",
       "      <td>No</td>\n",
       "      <td>2</td>\n",
       "      <td>Yes</td>\n",
       "      <td>No</td>\n",
       "      <td>Fiber optic</td>\n",
       "      <td>No</td>\n",
       "      <td>...</td>\n",
       "      <td>No</td>\n",
       "      <td>No</td>\n",
       "      <td>No</td>\n",
       "      <td>No</td>\n",
       "      <td>Month-to-month</td>\n",
       "      <td>Yes</td>\n",
       "      <td>Electronic check</td>\n",
       "      <td>70.70</td>\n",
       "      <td>151.65</td>\n",
       "      <td>Yes</td>\n",
       "    </tr>\n",
       "  </tbody>\n",
       "</table>\n",
       "<p>5 rows × 21 columns</p>\n",
       "</div>"
      ],
      "text/plain": [
       "   customerID  gender  SeniorCitizen Partner Dependents  tenure PhoneService  \\\n",
       "0  7590-VHVEG  Female              0     Yes         No       1           No   \n",
       "1  5575-GNVDE    Male              0      No         No      34          Yes   \n",
       "2  3668-QPYBK    Male              0      No         No       2          Yes   \n",
       "3  7795-CFOCW    Male              0      No         No      45           No   \n",
       "4  9237-HQITU  Female              0      No         No       2          Yes   \n",
       "\n",
       "      MultipleLines InternetService OnlineSecurity  ... DeviceProtection  \\\n",
       "0  No phone service             DSL             No  ...               No   \n",
       "1                No             DSL            Yes  ...              Yes   \n",
       "2                No             DSL            Yes  ...               No   \n",
       "3  No phone service             DSL            Yes  ...              Yes   \n",
       "4                No     Fiber optic             No  ...               No   \n",
       "\n",
       "  TechSupport StreamingTV StreamingMovies        Contract PaperlessBilling  \\\n",
       "0          No          No              No  Month-to-month              Yes   \n",
       "1          No          No              No        One year               No   \n",
       "2          No          No              No  Month-to-month              Yes   \n",
       "3         Yes          No              No        One year               No   \n",
       "4          No          No              No  Month-to-month              Yes   \n",
       "\n",
       "               PaymentMethod MonthlyCharges  TotalCharges Churn  \n",
       "0           Electronic check          29.85         29.85    No  \n",
       "1               Mailed check          56.95        1889.5    No  \n",
       "2               Mailed check          53.85        108.15   Yes  \n",
       "3  Bank transfer (automatic)          42.30       1840.75    No  \n",
       "4           Electronic check          70.70        151.65   Yes  \n",
       "\n",
       "[5 rows x 21 columns]"
      ]
     },
     "execution_count": 8,
     "metadata": {},
     "output_type": "execute_result"
    }
   ],
   "source": [
    "df.head()"
   ]
  },
  {
   "cell_type": "code",
   "execution_count": 11,
   "metadata": {},
   "outputs": [
    {
     "data": {
      "text/plain": [
       "(7043, 21)"
      ]
     },
     "execution_count": 11,
     "metadata": {},
     "output_type": "execute_result"
    }
   ],
   "source": [
    "df.shape # Shows there are about 7000 rows and 21 columns"
   ]
  },
  {
   "cell_type": "code",
   "execution_count": 12,
   "metadata": {},
   "outputs": [
    {
     "name": "stdout",
     "output_type": "stream",
     "text": [
      "<class 'pandas.core.frame.DataFrame'>\n",
      "RangeIndex: 7043 entries, 0 to 7042\n",
      "Data columns (total 21 columns):\n",
      " #   Column            Non-Null Count  Dtype  \n",
      "---  ------            --------------  -----  \n",
      " 0   customerID        7043 non-null   object \n",
      " 1   gender            7043 non-null   object \n",
      " 2   SeniorCitizen     7043 non-null   int64  \n",
      " 3   Partner           7043 non-null   object \n",
      " 4   Dependents        7043 non-null   object \n",
      " 5   tenure            7043 non-null   int64  \n",
      " 6   PhoneService      7043 non-null   object \n",
      " 7   MultipleLines     7043 non-null   object \n",
      " 8   InternetService   7043 non-null   object \n",
      " 9   OnlineSecurity    7043 non-null   object \n",
      " 10  OnlineBackup      7043 non-null   object \n",
      " 11  DeviceProtection  7043 non-null   object \n",
      " 12  TechSupport       7043 non-null   object \n",
      " 13  StreamingTV       7043 non-null   object \n",
      " 14  StreamingMovies   7043 non-null   object \n",
      " 15  Contract          7043 non-null   object \n",
      " 16  PaperlessBilling  7043 non-null   object \n",
      " 17  PaymentMethod     7043 non-null   object \n",
      " 18  MonthlyCharges    7043 non-null   float64\n",
      " 19  TotalCharges      7043 non-null   object \n",
      " 20  Churn             7043 non-null   object \n",
      "dtypes: float64(1), int64(2), object(18)\n",
      "memory usage: 1.1+ MB\n"
     ]
    }
   ],
   "source": [
    "df.info() # Get the column names and data types"
   ]
  },
  {
   "cell_type": "code",
   "execution_count": 13,
   "metadata": {},
   "outputs": [
    {
     "data": {
      "text/html": [
       "<div>\n",
       "<style scoped>\n",
       "    .dataframe tbody tr th:only-of-type {\n",
       "        vertical-align: middle;\n",
       "    }\n",
       "\n",
       "    .dataframe tbody tr th {\n",
       "        vertical-align: top;\n",
       "    }\n",
       "\n",
       "    .dataframe thead th {\n",
       "        text-align: right;\n",
       "    }\n",
       "</style>\n",
       "<table border=\"1\" class=\"dataframe\">\n",
       "  <thead>\n",
       "    <tr style=\"text-align: right;\">\n",
       "      <th></th>\n",
       "      <th>SeniorCitizen</th>\n",
       "      <th>tenure</th>\n",
       "      <th>MonthlyCharges</th>\n",
       "    </tr>\n",
       "  </thead>\n",
       "  <tbody>\n",
       "    <tr>\n",
       "      <th>count</th>\n",
       "      <td>7043.000000</td>\n",
       "      <td>7043.000000</td>\n",
       "      <td>7043.000000</td>\n",
       "    </tr>\n",
       "    <tr>\n",
       "      <th>mean</th>\n",
       "      <td>0.162147</td>\n",
       "      <td>32.371149</td>\n",
       "      <td>64.761692</td>\n",
       "    </tr>\n",
       "    <tr>\n",
       "      <th>std</th>\n",
       "      <td>0.368612</td>\n",
       "      <td>24.559481</td>\n",
       "      <td>30.090047</td>\n",
       "    </tr>\n",
       "    <tr>\n",
       "      <th>min</th>\n",
       "      <td>0.000000</td>\n",
       "      <td>0.000000</td>\n",
       "      <td>18.250000</td>\n",
       "    </tr>\n",
       "    <tr>\n",
       "      <th>25%</th>\n",
       "      <td>0.000000</td>\n",
       "      <td>9.000000</td>\n",
       "      <td>35.500000</td>\n",
       "    </tr>\n",
       "    <tr>\n",
       "      <th>50%</th>\n",
       "      <td>0.000000</td>\n",
       "      <td>29.000000</td>\n",
       "      <td>70.350000</td>\n",
       "    </tr>\n",
       "    <tr>\n",
       "      <th>75%</th>\n",
       "      <td>0.000000</td>\n",
       "      <td>55.000000</td>\n",
       "      <td>89.850000</td>\n",
       "    </tr>\n",
       "    <tr>\n",
       "      <th>max</th>\n",
       "      <td>1.000000</td>\n",
       "      <td>72.000000</td>\n",
       "      <td>118.750000</td>\n",
       "    </tr>\n",
       "  </tbody>\n",
       "</table>\n",
       "</div>"
      ],
      "text/plain": [
       "       SeniorCitizen       tenure  MonthlyCharges\n",
       "count    7043.000000  7043.000000     7043.000000\n",
       "mean        0.162147    32.371149       64.761692\n",
       "std         0.368612    24.559481       30.090047\n",
       "min         0.000000     0.000000       18.250000\n",
       "25%         0.000000     9.000000       35.500000\n",
       "50%         0.000000    29.000000       70.350000\n",
       "75%         0.000000    55.000000       89.850000\n",
       "max         1.000000    72.000000      118.750000"
      ]
     },
     "execution_count": 13,
     "metadata": {},
     "output_type": "execute_result"
    }
   ],
   "source": [
    "df.describe()"
   ]
  },
  {
   "cell_type": "markdown",
   "metadata": {},
   "source": [
    "# **Step 2: Data Organization**\n",
    "\n",
    "Goal: Create a file structure and add your work to the GitHub repository you’ve created for this project.\n",
    "\n",
    "**Create subfolders for data organization called \"raw_data\", \"processed_data\", and \"scripts\"**"
   ]
  },
  {
   "cell_type": "code",
   "execution_count": 14,
   "metadata": {},
   "outputs": [
    {
     "data": {
      "text/plain": [
       "customerID          0\n",
       "gender              0\n",
       "SeniorCitizen       0\n",
       "Partner             0\n",
       "Dependents          0\n",
       "tenure              0\n",
       "PhoneService        0\n",
       "MultipleLines       0\n",
       "InternetService     0\n",
       "OnlineSecurity      0\n",
       "OnlineBackup        0\n",
       "DeviceProtection    0\n",
       "TechSupport         0\n",
       "StreamingTV         0\n",
       "StreamingMovies     0\n",
       "Contract            0\n",
       "PaperlessBilling    0\n",
       "PaymentMethod       0\n",
       "MonthlyCharges      0\n",
       "TotalCharges        0\n",
       "Churn               0\n",
       "dtype: int64"
      ]
     },
     "execution_count": 14,
     "metadata": {},
     "output_type": "execute_result"
    }
   ],
   "source": [
    "df.isnull().sum() # Check for Missing Data"
   ]
  },
  {
   "cell_type": "code",
   "execution_count": 15,
   "metadata": {},
   "outputs": [
    {
     "data": {
      "text/plain": [
       "0"
      ]
     },
     "execution_count": 15,
     "metadata": {},
     "output_type": "execute_result"
    }
   ],
   "source": [
    "df['customerID'].duplicated().sum()  # Should return 0"
   ]
  },
  {
   "cell_type": "code",
   "execution_count": null,
   "metadata": {},
   "outputs": [
    {
     "data": {
      "text/plain": [
       "Churn\n",
       "No     5174\n",
       "Yes    1869\n",
       "Name: count, dtype: int64"
      ]
     },
     "execution_count": 16,
     "metadata": {},
     "output_type": "execute_result"
    }
   ],
   "source": [
    "df['Churn'].value_counts() # To understand the balance of the target variable"
   ]
  },
  {
   "cell_type": "code",
   "execution_count": 20,
   "metadata": {},
   "outputs": [
    {
     "data": {
      "text/plain": [
       "0"
      ]
     },
     "execution_count": 20,
     "metadata": {},
     "output_type": "execute_result"
    }
   ],
   "source": [
    "df['TotalCharges'].isnull().sum() # Check for Missing or Invalid Values"
   ]
  },
  {
   "cell_type": "code",
   "execution_count": null,
   "metadata": {},
   "outputs": [
    {
     "data": {
      "text/plain": [
       "11"
      ]
     },
     "execution_count": 21,
     "metadata": {},
     "output_type": "execute_result"
    }
   ],
   "source": [
    "pd.to_numeric(df['TotalCharges'], errors='coerce').isnull().sum() # Appears to be 11 missing values"
   ]
  },
  {
   "cell_type": "code",
   "execution_count": 22,
   "metadata": {},
   "outputs": [
    {
     "name": "stdout",
     "output_type": "stream",
     "text": [
      "11\n"
     ]
    }
   ],
   "source": [
    "df['TotalCharges'] = pd.to_numeric(df['TotalCharges'], errors='coerce')\n",
    "print(df['TotalCharges'].isnull().sum())  # Count missing values after conversion"
   ]
  },
  {
   "cell_type": "code",
   "execution_count": 24,
   "metadata": {},
   "outputs": [
    {
     "name": "stdout",
     "output_type": "stream",
     "text": [
      "0\n"
     ]
    }
   ],
   "source": [
    "df['TotalCharges'] = df['TotalCharges'].fillna(df['TotalCharges'].mean()) # Fill missing values with the mean\n",
    "print(df['TotalCharges'].isnull().sum())  # Count missing values after conversion"
   ]
  },
  {
   "cell_type": "code",
   "execution_count": 25,
   "metadata": {},
   "outputs": [
    {
     "name": "stdout",
     "output_type": "stream",
     "text": [
      "Cleaned dataset saved to processed_data/cleaned_TelecomCxChurn.csv\n"
     ]
    }
   ],
   "source": [
    "# Specify the path to the processed_data folder\n",
    "processed_data_path = \"processed_data/cleaned_TelecomCxChurn.csv\"\n",
    "\n",
    "# Save the cleaned dataframe to the processed_data folder\n",
    "df.to_csv(processed_data_path, index=False)  # index=False avoids saving the index as a column\n",
    "\n",
    "print(f\"Cleaned dataset saved to {processed_data_path}\")\n"
   ]
  },
  {
   "cell_type": "markdown",
   "metadata": {},
   "source": [
    "# Step 3: Data Definition\n",
    "Gain an understanding of your data features to inform the next steps of your project\n",
    "\n",
    "**Examine the columns (names, types, and descriptions).**\n",
    "\n",
    "**Identify and analyze key statistics for each column.**\n",
    "\n",
    "**Gain insights from counts and unique values.**\n"
   ]
  },
  {
   "cell_type": "markdown",
   "metadata": {},
   "source": [
    "Understand the Columns\n",
    "Check all column names, their data types, and non-null counts again using:"
   ]
  },
  {
   "cell_type": "markdown",
   "metadata": {},
   "source": [
    "### Column Descriptions\n",
    "| Column Name          | Description                                                                 |\n",
    "|----------------------|-----------------------------------------------------------------------------|\n",
    "| `customerID`         | Unique identifier for each customer.                                       |\n",
    "| `gender`             | Customer's gender (Male/Female).                                           |\n",
    "| `SeniorCitizen`      | Indicates if the customer is a senior citizen (1 = Yes, 0 = No).           |\n",
    "| `Partner`            | Indicates if the customer has a partner (Yes/No).                         |\n",
    "| `Dependents`         | Indicates if the customer has dependents (Yes/No).                        |\n",
    "| `tenure`             | Number of months the customer has been with the company.                  |\n",
    "| `PhoneService`       | Indicates if the customer has a phone service (Yes/No).                   |\n",
    "| `MultipleLines`      | Indicates if the customer has multiple phone lines (Yes/No/No phone service).|\n",
    "| `InternetService`    | Type of internet service (DSL/Fiber optic/No internet service).           |\n",
    "| `OnlineSecurity`     | Indicates if the customer has online security (Yes/No/No internet service).|\n",
    "| `OnlineBackup`       | Indicates if the customer has online backup (Yes/No/No internet service). |\n",
    "| `DeviceProtection`   | Indicates if the customer has device protection (Yes/No/No internet service).|\n",
    "| `TechSupport`        | Indicates if the customer has technical support (Yes/No/No internet service).|\n",
    "| `StreamingTV`        | Indicates if the customer has streaming TV (Yes/No/No internet service).  |\n",
    "| `StreamingMovies`    | Indicates if the customer has streaming movies (Yes/No/No internet service).|\n",
    "| `Contract`           | Type of contract (Month-to-month, One year, Two year).                    |\n",
    "| `PaperlessBilling`   | Indicates if the customer has opted for paperless billing (Yes/No).       |\n",
    "| `PaymentMethod`      | Payment method (Electronic check, Mailed check, Bank transfer, Credit card).|\n",
    "| `MonthlyCharges`     | The amount charged to the customer monthly.                               |\n",
    "| `TotalCharges`       | Total amount charged to the customer.                                     |\n",
    "| `Churn`              | Indicates if the customer churned (Yes/No).                               |\n"
   ]
  },
  {
   "cell_type": "code",
   "execution_count": 48,
   "metadata": {},
   "outputs": [],
   "source": [
    "# creating a python dict for reference or export. \n",
    "\n",
    "column_descriptions = {\n",
    "    \"customerID\": \"Unique identifier for each customer\",\n",
    "    \"gender\": \"Gender of the customer (Male/Female)\",\n",
    "    \"SeniorCitizen\": \"Indicates if the customer is a senior citizen (0: No, 1: Yes)\",\n",
    "    \"Partner\": \"Whether the customer has a partner (Yes/No)\",\n",
    "    \"Dependents\": \"Whether the customer has dependents (Yes/No)\",\n",
    "    \"tenure\": \"Number of months the customer has stayed with the company\",\n",
    "    \"PhoneService\": \"Whether the customer has phone service (Yes/No)\",\n",
    "    \"MultipleLines\": \"Whether the customer has multiple lines (Yes/No/No phone service)\",\n",
    "    \"InternetService\": \"Type of internet service (DSL/Fiber optic/No internet service)\",\n",
    "    \"OnlineSecurity\": \"Whether the customer has online security (Yes/No/No internet service)\",\n",
    "    \"OnlineBackup\": \"Whether the customer has online backup (Yes/No/No internet service)\",\n",
    "    \"DeviceProtection\": \"Whether the customer has device protection (Yes/No/No internet service)\",\n",
    "    \"TechSupport\": \"Whether the customer has tech support (Yes/No/No internet service)\",\n",
    "    \"StreamingTV\": \"Whether the customer has streaming TV (Yes/No/No internet service)\",\n",
    "    \"StreamingMovies\": \"Whether the customer has streaming movies (Yes/No/No internet service)\",\n",
    "    \"Contract\": \"The type of contract (Month-to-month/One year/Two year)\",\n",
    "    \"PaperlessBilling\": \"Whether the customer uses paperless billing (Yes/No)\",\n",
    "    \"PaymentMethod\": \"The customer's payment method (Electronic check/Mailed check/Bank transfer/Credit card)\",\n",
    "    \"MonthlyCharges\": \"The monthly charge amount for the customer\",\n",
    "    \"TotalCharges\": \"The total amount charged to the customer\",\n",
    "    \"Churn\": \"Whether the customer churned (Yes/No)\"\n",
    "}"
   ]
  },
  {
   "cell_type": "code",
   "execution_count": 49,
   "metadata": {},
   "outputs": [
    {
     "name": "stdout",
     "output_type": "stream",
     "text": [
      "customerID: Unique identifier for each customer\n",
      "gender: Gender of the customer (Male/Female)\n",
      "SeniorCitizen: Indicates if the customer is a senior citizen (0: No, 1: Yes)\n",
      "Partner: Whether the customer has a partner (Yes/No)\n",
      "Dependents: Whether the customer has dependents (Yes/No)\n",
      "tenure: Number of months the customer has stayed with the company\n",
      "PhoneService: Whether the customer has phone service (Yes/No)\n",
      "MultipleLines: Whether the customer has multiple lines (Yes/No/No phone service)\n",
      "InternetService: Type of internet service (DSL/Fiber optic/No internet service)\n",
      "OnlineSecurity: Whether the customer has online security (Yes/No/No internet service)\n",
      "OnlineBackup: Whether the customer has online backup (Yes/No/No internet service)\n",
      "DeviceProtection: Whether the customer has device protection (Yes/No/No internet service)\n",
      "TechSupport: Whether the customer has tech support (Yes/No/No internet service)\n",
      "StreamingTV: Whether the customer has streaming TV (Yes/No/No internet service)\n",
      "StreamingMovies: Whether the customer has streaming movies (Yes/No/No internet service)\n",
      "Contract: The type of contract (Month-to-month/One year/Two year)\n",
      "PaperlessBilling: Whether the customer uses paperless billing (Yes/No)\n",
      "PaymentMethod: The customer's payment method (Electronic check/Mailed check/Bank transfer/Credit card)\n",
      "MonthlyCharges: The monthly charge amount for the customer\n",
      "TotalCharges: The total amount charged to the customer\n",
      "Churn: Whether the customer churned (Yes/No)\n"
     ]
    }
   ],
   "source": [
    "for column, description in column_descriptions.items():\n",
    "    print(f\"{column}: {description}\")\n"
   ]
  },
  {
   "cell_type": "code",
   "execution_count": 50,
   "metadata": {},
   "outputs": [
    {
     "name": "stdout",
     "output_type": "stream",
     "text": [
      "<class 'pandas.core.frame.DataFrame'>\n",
      "RangeIndex: 7043 entries, 0 to 7042\n",
      "Data columns (total 21 columns):\n",
      " #   Column            Non-Null Count  Dtype  \n",
      "---  ------            --------------  -----  \n",
      " 0   customerID        7043 non-null   object \n",
      " 1   gender            7043 non-null   object \n",
      " 2   SeniorCitizen     7043 non-null   int64  \n",
      " 3   Partner           7043 non-null   object \n",
      " 4   Dependents        7043 non-null   object \n",
      " 5   tenure            7043 non-null   int64  \n",
      " 6   PhoneService      7043 non-null   object \n",
      " 7   MultipleLines     7043 non-null   object \n",
      " 8   InternetService   7043 non-null   object \n",
      " 9   OnlineSecurity    7043 non-null   object \n",
      " 10  OnlineBackup      7043 non-null   object \n",
      " 11  DeviceProtection  7043 non-null   object \n",
      " 12  TechSupport       7043 non-null   object \n",
      " 13  StreamingTV       7043 non-null   object \n",
      " 14  StreamingMovies   7043 non-null   object \n",
      " 15  Contract          7043 non-null   object \n",
      " 16  PaperlessBilling  7043 non-null   object \n",
      " 17  PaymentMethod     7043 non-null   object \n",
      " 18  MonthlyCharges    7043 non-null   float64\n",
      " 19  TotalCharges      7043 non-null   float64\n",
      " 20  Churn             7043 non-null   object \n",
      "dtypes: float64(2), int64(2), object(17)\n",
      "memory usage: 1.1+ MB\n",
      "None\n"
     ]
    }
   ],
   "source": [
    "print(df.info()) # Observing NaN values in the statistics output is normal for non-numeric columns"
   ]
  },
  {
   "cell_type": "markdown",
   "metadata": {},
   "source": [
    "Column Statistics\n",
    "Calculate summary statistics for each column:"
   ]
  },
  {
   "cell_type": "code",
   "execution_count": 51,
   "metadata": {},
   "outputs": [
    {
     "name": "stdout",
     "output_type": "stream",
     "text": [
      "        customerID gender  SeniorCitizen Partner Dependents       tenure  \\\n",
      "count         7043   7043    7043.000000    7043       7043  7043.000000   \n",
      "unique        7043      2            NaN       2          2          NaN   \n",
      "top     7590-VHVEG   Male            NaN      No         No          NaN   \n",
      "freq             1   3555            NaN    3641       4933          NaN   \n",
      "mean           NaN    NaN       0.162147     NaN        NaN    32.371149   \n",
      "std            NaN    NaN       0.368612     NaN        NaN    24.559481   \n",
      "min            NaN    NaN       0.000000     NaN        NaN     0.000000   \n",
      "25%            NaN    NaN       0.000000     NaN        NaN     9.000000   \n",
      "50%            NaN    NaN       0.000000     NaN        NaN    29.000000   \n",
      "75%            NaN    NaN       0.000000     NaN        NaN    55.000000   \n",
      "max            NaN    NaN       1.000000     NaN        NaN    72.000000   \n",
      "\n",
      "       PhoneService MultipleLines InternetService OnlineSecurity  ...  \\\n",
      "count          7043          7043            7043           7043  ...   \n",
      "unique            2             3               3              3  ...   \n",
      "top             Yes            No     Fiber optic             No  ...   \n",
      "freq           6361          3390            3096           3498  ...   \n",
      "mean            NaN           NaN             NaN            NaN  ...   \n",
      "std             NaN           NaN             NaN            NaN  ...   \n",
      "min             NaN           NaN             NaN            NaN  ...   \n",
      "25%             NaN           NaN             NaN            NaN  ...   \n",
      "50%             NaN           NaN             NaN            NaN  ...   \n",
      "75%             NaN           NaN             NaN            NaN  ...   \n",
      "max             NaN           NaN             NaN            NaN  ...   \n",
      "\n",
      "       DeviceProtection TechSupport StreamingTV StreamingMovies  \\\n",
      "count              7043        7043        7043            7043   \n",
      "unique                3           3           3               3   \n",
      "top                  No          No          No              No   \n",
      "freq               3095        3473        2810            2785   \n",
      "mean                NaN         NaN         NaN             NaN   \n",
      "std                 NaN         NaN         NaN             NaN   \n",
      "min                 NaN         NaN         NaN             NaN   \n",
      "25%                 NaN         NaN         NaN             NaN   \n",
      "50%                 NaN         NaN         NaN             NaN   \n",
      "75%                 NaN         NaN         NaN             NaN   \n",
      "max                 NaN         NaN         NaN             NaN   \n",
      "\n",
      "              Contract PaperlessBilling     PaymentMethod MonthlyCharges  \\\n",
      "count             7043             7043              7043    7043.000000   \n",
      "unique               3                2                 4            NaN   \n",
      "top     Month-to-month              Yes  Electronic check            NaN   \n",
      "freq              3875             4171              2365            NaN   \n",
      "mean               NaN              NaN               NaN      64.761692   \n",
      "std                NaN              NaN               NaN      30.090047   \n",
      "min                NaN              NaN               NaN      18.250000   \n",
      "25%                NaN              NaN               NaN      35.500000   \n",
      "50%                NaN              NaN               NaN      70.350000   \n",
      "75%                NaN              NaN               NaN      89.850000   \n",
      "max                NaN              NaN               NaN     118.750000   \n",
      "\n",
      "        TotalCharges  Churn  \n",
      "count    7043.000000   7043  \n",
      "unique           NaN      2  \n",
      "top              NaN     No  \n",
      "freq             NaN   5174  \n",
      "mean     2283.300441    NaN  \n",
      "std      2265.000258    NaN  \n",
      "min        18.800000    NaN  \n",
      "25%       402.225000    NaN  \n",
      "50%      1400.550000    NaN  \n",
      "75%      3786.600000    NaN  \n",
      "max      8684.800000    NaN  \n",
      "\n",
      "[11 rows x 21 columns]\n"
     ]
    }
   ],
   "source": [
    "print(df.describe(include='all')) # Observing NaN values in the statistics output is normal for non-numeric columns"
   ]
  },
  {
   "cell_type": "markdown",
   "metadata": {},
   "source": [
    "Check for Unique/Repeated Values\n",
    "For each categorical column, find the unique values and their counts:"
   ]
  },
  {
   "cell_type": "code",
   "execution_count": 52,
   "metadata": {},
   "outputs": [
    {
     "name": "stdout",
     "output_type": "stream",
     "text": [
      "customerID:\n",
      "customerID\n",
      "7590-VHVEG    1\n",
      "3791-LGQCY    1\n",
      "6008-NAIXK    1\n",
      "5956-YHHRX    1\n",
      "5365-LLFYV    1\n",
      "             ..\n",
      "9796-MVYXX    1\n",
      "2637-FKFSY    1\n",
      "1552-AAGRX    1\n",
      "4304-TSPVK    1\n",
      "3186-AJIEK    1\n",
      "Name: count, Length: 7043, dtype: int64\n",
      "\n",
      "gender:\n",
      "gender\n",
      "Male      3555\n",
      "Female    3488\n",
      "Name: count, dtype: int64\n",
      "\n",
      "Partner:\n",
      "Partner\n",
      "No     3641\n",
      "Yes    3402\n",
      "Name: count, dtype: int64\n",
      "\n",
      "Dependents:\n",
      "Dependents\n",
      "No     4933\n",
      "Yes    2110\n",
      "Name: count, dtype: int64\n",
      "\n",
      "PhoneService:\n",
      "PhoneService\n",
      "Yes    6361\n",
      "No      682\n",
      "Name: count, dtype: int64\n",
      "\n",
      "MultipleLines:\n",
      "MultipleLines\n",
      "No                  3390\n",
      "Yes                 2971\n",
      "No phone service     682\n",
      "Name: count, dtype: int64\n",
      "\n",
      "InternetService:\n",
      "InternetService\n",
      "Fiber optic    3096\n",
      "DSL            2421\n",
      "No             1526\n",
      "Name: count, dtype: int64\n",
      "\n",
      "OnlineSecurity:\n",
      "OnlineSecurity\n",
      "No                     3498\n",
      "Yes                    2019\n",
      "No internet service    1526\n",
      "Name: count, dtype: int64\n",
      "\n",
      "OnlineBackup:\n",
      "OnlineBackup\n",
      "No                     3088\n",
      "Yes                    2429\n",
      "No internet service    1526\n",
      "Name: count, dtype: int64\n",
      "\n",
      "DeviceProtection:\n",
      "DeviceProtection\n",
      "No                     3095\n",
      "Yes                    2422\n",
      "No internet service    1526\n",
      "Name: count, dtype: int64\n",
      "\n",
      "TechSupport:\n",
      "TechSupport\n",
      "No                     3473\n",
      "Yes                    2044\n",
      "No internet service    1526\n",
      "Name: count, dtype: int64\n",
      "\n",
      "StreamingTV:\n",
      "StreamingTV\n",
      "No                     2810\n",
      "Yes                    2707\n",
      "No internet service    1526\n",
      "Name: count, dtype: int64\n",
      "\n",
      "StreamingMovies:\n",
      "StreamingMovies\n",
      "No                     2785\n",
      "Yes                    2732\n",
      "No internet service    1526\n",
      "Name: count, dtype: int64\n",
      "\n",
      "Contract:\n",
      "Contract\n",
      "Month-to-month    3875\n",
      "Two year          1695\n",
      "One year          1473\n",
      "Name: count, dtype: int64\n",
      "\n",
      "PaperlessBilling:\n",
      "PaperlessBilling\n",
      "Yes    4171\n",
      "No     2872\n",
      "Name: count, dtype: int64\n",
      "\n",
      "PaymentMethod:\n",
      "PaymentMethod\n",
      "Electronic check             2365\n",
      "Mailed check                 1612\n",
      "Bank transfer (automatic)    1544\n",
      "Credit card (automatic)      1522\n",
      "Name: count, dtype: int64\n",
      "\n",
      "Churn:\n",
      "Churn\n",
      "No     5174\n",
      "Yes    1869\n",
      "Name: count, dtype: int64\n",
      "\n"
     ]
    }
   ],
   "source": [
    "for column in df.select_dtypes(include=['object']).columns: # to understand the spread of categories in the dataset\n",
    "    print(f\"{column}:\\n{df[column].value_counts()}\\n\")"
   ]
  },
  {
   "cell_type": "markdown",
   "metadata": {},
   "source": [
    "Visualizations\n",
    "Use histograms for numeric columns:"
   ]
  },
  {
   "cell_type": "code",
   "execution_count": 53,
   "metadata": {},
   "outputs": [
    {
     "data": {
      "image/png": "[encoded data removed]",
      "text/plain": [
       "<Figure size 1200x1000 with 4 Axes>"
      ]
     },
     "metadata": {},
     "output_type": "display_data"
    }
   ],
   "source": [
    "# Update histograms with titles\n",
    "import matplotlib.pyplot as plt\n",
    "\n",
    "df.hist(bins=20, figsize=(12, 10))\n",
    "\n",
    "# Add titles to each subplot\n",
    "plt.suptitle(\"Histograms of Numeric Columns\", fontsize=16)\n",
    "axes = plt.gcf().get_axes()  # Get all subplot axes\n",
    "titles = ['SeniorCitizen Distribution', 'Tenure Distribution', 'Monthly Charges Distribution', 'Total Charges Distribution']\n",
    "\n",
    "# Assign titles to each subplot\n",
    "for ax, title in zip(axes, titles):\n",
    "    ax.set_title(title)\n",
    "\n",
    "plt.tight_layout(rect=[0, 0, 1, 0.96])  # Adjust layout to make space for the main title\n",
    "plt.show()\n"
   ]
  },
  {
   "cell_type": "markdown",
   "metadata": {},
   "source": [
    "Use bar plots for categorical columns:"
   ]
  },
  {
   "cell_type": "code",
   "execution_count": 54,
   "metadata": {},
   "outputs": [
    {
     "data": {
      "image/png": "[encoded data removed]",
      "text/plain": [
       "<Figure size 800x500 with 1 Axes>"
      ]
     },
     "metadata": {},
     "output_type": "display_data"
    },
    {
     "name": "stdout",
     "output_type": "stream",
     "text": [
      "Churn Rate: 26.54%\n"
     ]
    }
   ],
   "source": [
    "# Calculate churn percentage\n",
    "churn_rate = df['Churn'].value_counts(normalize=True)['Yes'] * 100\n",
    "\n",
    "# Create an improved bar plot\n",
    "plt.figure(figsize=(8, 5))\n",
    "sns.countplot(data=df, x='Churn', palette='pastel')\n",
    "plt.title(f\"Churn Rate: {churn_rate:.2f}% of Customers\", fontsize=14)\n",
    "plt.xlabel(\"Churn\", fontsize=12)\n",
    "plt.ylabel(\"Count\", fontsize=12)\n",
    "plt.tight_layout()\n",
    "plt.savefig(\"churn_barplot.png\")  # Save the plot\n",
    "plt.show()\n",
    "\n",
    "# One-liner for churn percentage calculation # The churn rate is approximately 26.5% (1869 out of 7043), with the majority being non-churned customers.\n",
    "print(f\"Churn Rate: {df['Churn'].value_counts(normalize=True)['Yes'] * 100:.2f}%\")"
   ]
  },
  {
   "cell_type": "code",
   "execution_count": 55,
   "metadata": {},
   "outputs": [
    {
     "data": {
      "text/plain": [
       "<Figure size 640x480 with 0 Axes>"
      ]
     },
     "metadata": {},
     "output_type": "display_data"
    }
   ],
   "source": [
    "# Create a 'plots' directory if it doesn't exist\n",
    "os.makedirs(\"plots\", exist_ok=True)\n",
    "\n",
    "plt.savefig(\"plots/churn_rate_barplot.png\")  # Save the plot\n"
   ]
  },
  {
   "cell_type": "markdown",
   "metadata": {},
   "source": [
    "### Insights Gained from Data Definition\n",
    "\n",
    "1. **Churn Column**:\n",
    "   - The churn rate is approximately **26.5%**, meaning that the majority of customers (around **73.5%**) have not churned.\n",
    "\n",
    "2. **TotalCharges Column**:\n",
    "   - The `TotalCharges` column shows a **wide range** of values, indicating that some customers have been with the service for a significant amount of time, while others are relatively new.\n",
    "   - Missing values were identified and filled with the **mean TotalCharges** for better consistency.\n",
    "\n",
    "3. **SeniorCitizen Column**:\n",
    "   - Only about **16% of customers** are classified as senior citizens, while the remaining **84%** are non-senior customers.\n",
    "\n",
    "4. **MonthlyCharges Column**:\n",
    "   - The distribution of `MonthlyCharges` is skewed towards the lower end, with most customers paying between **$20 and $50**, but a smaller subset paying up to **$120**.\n",
    "\n",
    "5. **Tenure Column**:\n",
    "   - The `tenure` column shows that a significant number of customers are either **newly subscribed** or **long-term subscribers**, with spikes in shorter and longer tenures.\n",
    "\n",
    "---\n"
   ]
  },
  {
   "cell_type": "markdown",
   "metadata": {},
   "source": [
    "# Step 4: Data Cleaning\n",
    "\n",
    "Goal: Clean up the data in order to prepare it for the next steps of your project.\n",
    "\n",
    "■ NA or missing values\n",
    "\n",
    "■ Duplicates\n"
   ]
  },
  {
   "cell_type": "markdown",
   "metadata": {},
   "source": [
    "Handle NA or Missing Values\n",
    "Check for Missing Values: You've already checked for missing values using df.isnull().sum(). Now, focus on strategies to handle them."
   ]
  },
  {
   "cell_type": "code",
   "execution_count": 56,
   "metadata": {},
   "outputs": [
    {
     "data": {
      "text/plain": [
       "customerID          0\n",
       "gender              0\n",
       "SeniorCitizen       0\n",
       "Partner             0\n",
       "Dependents          0\n",
       "tenure              0\n",
       "PhoneService        0\n",
       "MultipleLines       0\n",
       "InternetService     0\n",
       "OnlineSecurity      0\n",
       "OnlineBackup        0\n",
       "DeviceProtection    0\n",
       "TechSupport         0\n",
       "StreamingTV         0\n",
       "StreamingMovies     0\n",
       "Contract            0\n",
       "PaperlessBilling    0\n",
       "PaymentMethod       0\n",
       "MonthlyCharges      0\n",
       "TotalCharges        0\n",
       "Churn               0\n",
       "dtype: int64"
      ]
     },
     "execution_count": 56,
     "metadata": {},
     "output_type": "execute_result"
    }
   ],
   "source": [
    "df.isnull().sum()"
   ]
  },
  {
   "cell_type": "markdown",
   "metadata": {},
   "source": [
    "# Check for Duplicates:\n"
   ]
  },
  {
   "cell_type": "code",
   "execution_count": 57,
   "metadata": {},
   "outputs": [
    {
     "name": "stdout",
     "output_type": "stream",
     "text": [
      "Number of duplicate rows: 0\n"
     ]
    }
   ],
   "source": [
    "# Check for duplicate rows\n",
    "duplicate_rows = df.duplicated().sum()\n",
    "print(f\"Number of duplicate rows: {duplicate_rows}\")"
   ]
  },
  {
   "cell_type": "markdown",
   "metadata": {},
   "source": [
    "**double checking if**"
   ]
  },
  {
   "cell_type": "code",
   "execution_count": 58,
   "metadata": {},
   "outputs": [
    {
     "name": "stdout",
     "output_type": "stream",
     "text": [
      "Is customerID column unique? True\n"
     ]
    }
   ],
   "source": [
    "print(f\"Is customerID column unique? {df['customerID'].is_unique}\")"
   ]
  },
  {
   "cell_type": "markdown",
   "metadata": {},
   "source": [
    "# Data Cleaning Summary\n",
    "Steps Performed: \n",
    "\n",
    "# Checked for Missing Values:\n",
    "\n",
    "Used df.isnull().sum() to identify missing values in all columns.\n",
    "\n",
    "Found 11 missing values in the TotalCharges column.\n",
    "\n",
    "Filled these missing values with the mean of TotalCharges using fillna().\n",
    "\n",
    "# Checked for Duplicates:\n",
    "\n",
    "Verified no duplicate rows in the dataset using df.duplicated().sum().\n",
    "\n",
    "# Verified Data Types:\n",
    "\n",
    "Ensured appropriate data types for each column.\n",
    "\n",
    "Converted TotalCharges to a numeric type with pd.to_numeric() to handle any invalid entries.\n",
    "\n",
    "# Checked for Outliers:\n",
    "\n",
    "Used visualizations (e.g., histograms) for numerical columns to inspect data distributions (SeniorCitizen, tenure, MonthlyCharges, TotalCharges).\n",
    "\n",
    "No extreme outliers required removal or transformation.\n",
    "\n",
    "# Saved the Cleaned Dataset:\n",
    "\n",
    "Stored the cleaned dataset in the processed_data folder as cleaned_TelecomCxChurn.csv."
   ]
  },
  {
   "cell_type": "markdown",
   "metadata": {},
   "source": [
    "# Questions for Discussion:\n",
    "\n",
    "****What kind of cleaning steps did you perform?**\n",
    "\n",
    "Checked for missing values, duplicates, and data type mismatches.\n",
    "\n",
    "Cleaned TotalCharges by imputing missing values with the mean.\n",
    "\n",
    "**How did you deal with missing values, if there were any?**\n",
    "\n",
    "Used the mean to fill missing values in the TotalCharges column.\n",
    "\n",
    "**Were there outliers, and how did you handle them?**\n",
    "\n",
    "No significant outliers were identified in the data distributions."
   ]
  }
 ],
 "metadata": {
  "kernelspec": {
   "display_name": "base",
   "language": "python",
   "name": "python3"
  },
  "language_info": {
   "codemirror_mode": {
    "name": "ipython",
    "version": 3
   },
   "file_extension": ".py",
   "mimetype": "text/x-python",
   "name": "python",
   "nbconvert_exporter": "python",
   "pygments_lexer": "ipython3",
   "version": "3.11.7"
  }
 },
 "nbformat": 4,
 "nbformat_minor": 2
}
