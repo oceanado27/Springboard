{
 "cells": [
  {
   "cell_type": "markdown",
   "id": "b14cacd9",
   "metadata": {
    "_cell_guid": "b1076dfc-b9ad-4769-8c92-a6c4dae69d19",
    "_uuid": "8f2839f25d086af736a60e9eeb907d3b93b6e0e5",
    "execution": {
     "iopub.execute_input": "2022-10-28T06:14:45.891584Z",
     "iopub.status.busy": "2022-10-28T06:14:45.890548Z",
     "iopub.status.idle": "2022-10-28T06:14:45.926077Z",
     "shell.execute_reply": "2022-10-28T06:14:45.925040Z",
     "shell.execute_reply.started": "2022-10-28T06:14:45.891425Z"
    },
    "papermill": {
     "duration": 0.021703,
     "end_time": "2022-11-13T15:46:31.562181",
     "exception": false,
     "start_time": "2022-11-13T15:46:31.540478",
     "status": "completed"
    },
    "tags": []
   },
   "source": [
    "## Capstone Two - Pre-processing and Training Data Development\n"
   ]
  },
  {
   "cell_type": "markdown",
   "id": "1e2d31f4",
   "metadata": {
    "papermill": {
     "duration": 0.018369,
     "end_time": "2022-11-13T15:46:31.600190",
     "exception": false,
     "start_time": "2022-11-13T15:46:31.581821",
     "status": "completed"
    },
    "tags": []
   },
   "source": [
    "### The Data Science Method\n",
    "\n",
    "1. Problem Identification\n",
    "\n",
    "2. Data Wrangling\n",
    "\n",
    "3. Exploratory Data Analysis\n",
    "\n",
    "4.   **Pre-processing and Training Data Development**\n",
    "  * Creating dummy features or indicator features for categorical variables\n",
    "  * Standardize the magnitude of numeric features using a scaler\n",
    "  * Split into testing and training datasets\n",
    "\n",
    "5.  Modeling"
   ]
  },
  {
   "cell_type": "markdown",
   "id": "f03cb705",
   "metadata": {},
   "source": [
    "## Step 1\n",
    "### Start by loading the necessary packages."
   ]
  },
  {
   "cell_type": "code",
   "execution_count": 2,
   "id": "bab40b79",
   "metadata": {},
   "outputs": [],
   "source": [
    "# Import necessary libraries\n",
    "import pandas as pd\n",
    "import numpy as np\n",
    "from sklearn.preprocessing import StandardScaler\n",
    "from sklearn.model_selection import train_test_split\n",
    "import matplotlib.pyplot as plt\n",
    "import seaborn as sns\n",
    "\n",
    "# load cleaned dataset\n",
    "df = pd.read_csv(r'C:\\Users\\yanks\\Desktop\\Springboard\\Unit 27\\cleaned_TelecomCxChurn.csv')"
   ]
  },
  {
   "cell_type": "markdown",
   "id": "915e76aa",
   "metadata": {},
   "source": [
    "## Step 2\n",
    "### Explore and Inspect the Data."
   ]
  },
  {
   "cell_type": "code",
   "execution_count": 3,
   "id": "06a1083c",
   "metadata": {},
   "outputs": [
    {
     "name": "stdout",
     "output_type": "stream",
     "text": [
      "<class 'pandas.core.frame.DataFrame'>\n",
      "RangeIndex: 7043 entries, 0 to 7042\n",
      "Data columns (total 21 columns):\n",
      " #   Column            Non-Null Count  Dtype  \n",
      "---  ------            --------------  -----  \n",
      " 0   customerID        7043 non-null   object \n",
      " 1   gender            7043 non-null   object \n",
      " 2   SeniorCitizen     7043 non-null   int64  \n",
      " 3   Partner           7043 non-null   object \n",
      " 4   Dependents        7043 non-null   object \n",
      " 5   tenure            7043 non-null   int64  \n",
      " 6   PhoneService      7043 non-null   object \n",
      " 7   MultipleLines     7043 non-null   object \n",
      " 8   InternetService   7043 non-null   object \n",
      " 9   OnlineSecurity    7043 non-null   object \n",
      " 10  OnlineBackup      7043 non-null   object \n",
      " 11  DeviceProtection  7043 non-null   object \n",
      " 12  TechSupport       7043 non-null   object \n",
      " 13  StreamingTV       7043 non-null   object \n",
      " 14  StreamingMovies   7043 non-null   object \n",
      " 15  Contract          7043 non-null   object \n",
      " 16  PaperlessBilling  7043 non-null   object \n",
      " 17  PaymentMethod     7043 non-null   object \n",
      " 18  MonthlyCharges    7043 non-null   float64\n",
      " 19  TotalCharges      7043 non-null   float64\n",
      " 20  Churn             7043 non-null   object \n",
      "dtypes: float64(2), int64(2), object(17)\n",
      "memory usage: 1.1+ MB\n",
      "None\n",
      "       SeniorCitizen       tenure  MonthlyCharges  TotalCharges\n",
      "count    7043.000000  7043.000000     7043.000000   7043.000000\n",
      "mean        0.162147    32.371149       64.761692   2283.300441\n",
      "std         0.368612    24.559481       30.090047   2265.000258\n",
      "min         0.000000     0.000000       18.250000     18.800000\n",
      "25%         0.000000     9.000000       35.500000    402.225000\n",
      "50%         0.000000    29.000000       70.350000   1400.550000\n",
      "75%         0.000000    55.000000       89.850000   3786.600000\n",
      "max         1.000000    72.000000      118.750000   8684.800000\n",
      "Index(['customerID', 'gender', 'SeniorCitizen', 'Partner', 'Dependents',\n",
      "       'tenure', 'PhoneService', 'MultipleLines', 'InternetService',\n",
      "       'OnlineSecurity', 'OnlineBackup', 'DeviceProtection', 'TechSupport',\n",
      "       'StreamingTV', 'StreamingMovies', 'Contract', 'PaperlessBilling',\n",
      "       'PaymentMethod', 'MonthlyCharges', 'TotalCharges', 'Churn'],\n",
      "      dtype='object')\n",
      "customerID          0\n",
      "gender              0\n",
      "SeniorCitizen       0\n",
      "Partner             0\n",
      "Dependents          0\n",
      "tenure              0\n",
      "PhoneService        0\n",
      "MultipleLines       0\n",
      "InternetService     0\n",
      "OnlineSecurity      0\n",
      "OnlineBackup        0\n",
      "DeviceProtection    0\n",
      "TechSupport         0\n",
      "StreamingTV         0\n",
      "StreamingMovies     0\n",
      "Contract            0\n",
      "PaperlessBilling    0\n",
      "PaymentMethod       0\n",
      "MonthlyCharges      0\n",
      "TotalCharges        0\n",
      "Churn               0\n",
      "dtype: int64\n"
     ]
    }
   ],
   "source": [
    "# Inspect the data\n",
    "print(df.info())\n",
    "print(df.describe())\n",
    "print(df.columns)\n",
    "\n",
    "# Check for missing values\n",
    "print(df.isnull().sum())"
   ]
  },
  {
   "cell_type": "markdown",
   "id": "3a565b54",
   "metadata": {},
   "source": [
    "### Step 2: Explore and Inspect the Data\n",
    "- Use `.info()` to inspect data types and missing values.\n",
    "- Use `.describe()` to check summary statistics for numeric columns.\n",
    "- Use `.columns` to get an overview of column names.\n",
    "- Use `.isnull().sum()` to identify any remaining missing values that need handling."
   ]
  },
  {
   "cell_type": "markdown",
   "id": "451391dc",
   "metadata": {},
   "source": [
    "## Step 3\n",
    "### Handle Missing Values."
   ]
  },
  {
   "cell_type": "code",
   "execution_count": 10,
   "id": "bfb5dbfc",
   "metadata": {},
   "outputs": [
    {
     "name": "stdout",
     "output_type": "stream",
     "text": [
      "SeniorCitizen     0\n",
      "tenure            0\n",
      "MonthlyCharges    0\n",
      "TotalCharges      0\n",
      "dtype: int64\n"
     ]
    }
   ],
   "source": [
    "from sklearn.impute import SimpleImputer\n",
    "\n",
    "# Define numeric columns\n",
    "numeric_columns = df.select_dtypes(include=['int64', 'float64']).columns\n",
    "\n",
    "# Handle missing values for numeric columns\n",
    "imputer = SimpleImputer(strategy='mean')\n",
    "df[numeric_columns] = imputer.fit_transform(df[numeric_columns])\n",
    "\n",
    "# Verify there are no missing values remaining\n",
    "print(df[numeric_columns].isnull().sum())"
   ]
  },
  {
   "cell_type": "markdown",
   "id": "1a2abc0a",
   "metadata": {},
   "source": [
    "### Step 3: Handle Missing Values\n",
    "- Use `SimpleImputer` to handle missing values in numeric columns.\n",
    "- Strategy: Replace missing values with the column mean.\n",
    "- Verify no missing values remain after imputation."
   ]
  },
  {
   "cell_type": "markdown",
   "id": "b5f543de",
   "metadata": {},
   "source": [
    "## Step 4 \n",
    "### Create Dummy Features."
   ]
  },
  {
   "cell_type": "code",
   "execution_count": 5,
   "id": "b4abd816",
   "metadata": {},
   "outputs": [
    {
     "name": "stdout",
     "output_type": "stream",
     "text": [
      "Index(['customerID', 'gender', 'Partner', 'Dependents', 'PhoneService',\n",
      "       'MultipleLines', 'InternetService', 'OnlineSecurity', 'OnlineBackup',\n",
      "       'DeviceProtection', 'TechSupport', 'StreamingTV', 'StreamingMovies',\n",
      "       'Contract', 'PaperlessBilling', 'PaymentMethod', 'Churn'],\n",
      "      dtype='object')\n"
     ]
    }
   ],
   "source": [
    "# Identify categorical columns\n",
    "categorical_cols = df.select_dtypes(include=['object']).columns\n",
    "print(categorical_cols)\n",
    "\n",
    "# Convert categorical variables to dummy/indicator variables\n",
    "df = pd.get_dummies(df, columns=categorical_cols, drop_first=True)"
   ]
  },
  {
   "cell_type": "markdown",
   "id": "fb487733",
   "metadata": {},
   "source": [
    "### Step 4: Create Dummy Features\n",
    "- Use `pd.get_dummies()` to convert categorical columns into dummy variables.\n",
    "- Set `drop_first=True` to avoid multicollinearity in the data."
   ]
  },
  {
   "cell_type": "markdown",
   "id": "f5815c0f",
   "metadata": {},
   "source": [
    "## Step 5\n",
    "### Standardize Numeric Features."
   ]
  },
  {
   "cell_type": "code",
   "execution_count": 6,
   "id": "4a4a459c",
   "metadata": {},
   "outputs": [],
   "source": [
    "# Standardize numeric columns\n",
    "scaler = StandardScaler()\n",
    "df[numeric_columns] = scaler.fit_transform(df[numeric_columns])"
   ]
  },
  {
   "cell_type": "markdown",
   "id": "1784d369",
   "metadata": {},
   "source": [
    "### Step 5: Standardize Numeric Features\n",
    "- Standardizing ensures numeric columns have a mean of 0 and a standard deviation of 1.\n",
    "- This step is critical for algorithms sensitive to the scale of input features (e.g., Logistic Regression)."
   ]
  },
  {
   "cell_type": "markdown",
   "id": "0902fe21",
   "metadata": {},
   "source": [
    "## Step 6\n",
    "### Split Data into Training and Testing Sets."
   ]
  },
  {
   "cell_type": "code",
   "execution_count": 7,
   "id": "d697a971",
   "metadata": {},
   "outputs": [],
   "source": [
    "# Define target (y) and features (X)\n",
    "X = df.drop('Churn_Yes', axis=1)  # Replace 'Churn_Yes' with your target column name\n",
    "y = df['Churn_Yes']\n",
    "\n",
    "# Split into training and testing sets\n",
    "X_train, X_test, y_train, y_test = train_test_split(X, y, test_size=0.3, random_state=42)"
   ]
  },
  {
   "cell_type": "markdown",
   "id": "0ae06d32",
   "metadata": {},
   "source": [
    "### Step 6: Split Data into Training and Testing Sets\n",
    "- Separate the target column (`Churn_Yes`) from the features.\n",
    "- Use `train_test_split` to split the data into training (70%) and testing (30%) sets.\n",
    "- Random seed ensures reproducibility."
   ]
  },
  {
   "cell_type": "markdown",
   "id": "d92c1349",
   "metadata": {},
   "source": [
    "## Step 7 \n",
    "### Perform Exploratory Data Analysis (Optional but Recommended)"
   ]
  },
  {
   "cell_type": "code",
   "execution_count": null,
   "id": "deee2ae4",
   "metadata": {},
   "outputs": [],
   "source": [
    "# Visualize distributions of numeric columns\n",
    "fig, ax = plt.subplots(len(numeric_columns), 2, figsize=(15, len(numeric_columns) * 5))\n",
    "for i, col in enumerate(numeric_columns):\n",
    "    sns.boxplot(data=df, x=col, ax=ax[i, 0])\n",
    "    sns.histplot(data=df, x=col, kde=True, ax=ax[i, 1])\n",
    "plt.tight_layout()\n",
    "\n",
    "# Correlation heatmap\n",
    "sns.heatmap(df.corr(), annot=False, cmap='coolwarm', fmt='.2f', square=True)\n",
    "plt.show()"
   ]
  },
  {
   "cell_type": "markdown",
   "id": "cb8b4866",
   "metadata": {},
   "source": [
    "### Step 7: Perform Exploratory Data Analysis (Optional)\n",
    "- Visualize distributions of numeric columns using boxplots and histograms.\n",
    "- Generate a correlation heatmap to identify relationships between features and the target variable."
   ]
  },
  {
   "cell_type": "markdown",
   "id": "49e4252d",
   "metadata": {},
   "source": [
    "## Step 8\n",
    "### Train Model (Example with Logistic Regression)"
   ]
  },
  {
   "cell_type": "code",
   "execution_count": 8,
   "id": "f90111c3",
   "metadata": {},
   "outputs": [
    {
     "name": "stdout",
     "output_type": "stream",
     "text": [
      "              precision    recall  f1-score   support\n",
      "\n",
      "       False       0.85      0.90      0.87      1539\n",
      "        True       0.68      0.57      0.62       574\n",
      "\n",
      "    accuracy                           0.81      2113\n",
      "   macro avg       0.77      0.74      0.75      2113\n",
      "weighted avg       0.80      0.81      0.81      2113\n",
      "\n",
      "ROC AUC Score: 0.8586518237780539\n"
     ]
    },
    {
     "data": {
      "image/png": "[encoded data removed]",
      "text/plain": [
       "<Figure size 640x480 with 2 Axes>"
      ]
     },
     "metadata": {},
     "output_type": "display_data"
    },
    {
     "data": {
      "image/png": "[encoded data removed]",
      "text/plain": [
       "<Figure size 640x480 with 1 Axes>"
      ]
     },
     "metadata": {},
     "output_type": "display_data"
    }
   ],
   "source": [
    "from sklearn.linear_model import LogisticRegression\n",
    "from sklearn.metrics import classification_report, roc_auc_score, confusion_matrix, roc_curve, accuracy_score\n",
    "\n",
    "# Train Logistic Regression\n",
    "clf = LogisticRegression(random_state=42, max_iter=500)\n",
    "clf.fit(X_train, y_train)\n",
    "\n",
    "# Predictions\n",
    "y_pred = clf.predict(X_test)\n",
    "y_proba = clf.predict_proba(X_test)[:, 1]\n",
    "\n",
    "# Evaluate the Model\n",
    "print(classification_report(y_test, y_pred))\n",
    "print(\"ROC AUC Score:\", roc_auc_score(y_test, y_proba))\n",
    "\n",
    "# Confusion Matrix\n",
    "conf_matrix = confusion_matrix(y_test, y_pred)\n",
    "sns.heatmap(conf_matrix, annot=True, fmt='d', cmap='Blues')\n",
    "plt.title(\"Confusion Matrix\")\n",
    "plt.show()\n",
    "\n",
    "# ROC Curve\n",
    "fpr, tpr, _ = roc_curve(y_test, y_proba)\n",
    "plt.plot(fpr, tpr, label=\"ROC Curve\")\n",
    "plt.plot([0, 1], [0, 1], linestyle=\"--\", label=\"Random Guess\")\n",
    "plt.xlabel(\"False Positive Rate\")\n",
    "plt.ylabel(\"True Positive Rate\")\n",
    "plt.title(\"ROC Curve\")\n",
    "plt.legend()\n",
    "plt.show()\n"
   ]
  },
  {
   "cell_type": "markdown",
   "id": "dc4928d4",
   "metadata": {},
   "source": [
    "### Step 8: Train Model (Example with Logistic Regression)\n",
    "- Train a Logistic Regression model using the training set.\n",
    "- Evaluate the model with a classification report and ROC AUC score.\n",
    "- Visualize performance with a confusion matrix and ROC curve.\n"
   ]
  },
  {
   "cell_type": "markdown",
   "id": "31e4fc4a",
   "metadata": {},
   "source": [
    "## Step 9\n",
    "### Save Preprocessed Data (Optional)"
   ]
  },
  {
   "cell_type": "code",
   "execution_count": 9,
   "id": "ecd1295d",
   "metadata": {},
   "outputs": [],
   "source": [
    "# Save the processed dataset for future use\n",
    "df.to_csv(\"preprocessed_TelecomCxChurn.csv\", index=False)"
   ]
  }
 ],
 "metadata": {
  "kernelspec": {
   "display_name": "Python 3",
   "language": "python",
   "name": "python3"
  },
  "language_info": {
   "codemirror_mode": {
    "name": "ipython",
    "version": 3
   },
   "file_extension": ".py",
   "mimetype": "text/x-python",
   "name": "python",
   "nbconvert_exporter": "python",
   "pygments_lexer": "ipython3",
   "version": "3.12.6"
  },
  "papermill": {
   "default_parameters": {},
   "duration": 597.358795,
   "end_time": "2022-11-13T15:56:19.962236",
   "environment_variables": {},
   "exception": null,
   "input_path": "__notebook__.ipynb",
   "output_path": "__notebook__.ipynb",
   "parameters": {},
   "start_time": "2022-11-13T15:46:22.603441",
   "version": "2.3.4"
  }
 },
 "nbformat": 4,
 "nbformat_minor": 5
}
